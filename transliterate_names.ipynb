{
 "cells": [
  {
   "cell_type": "code",
   "execution_count": 72,
   "metadata": {},
   "outputs": [],
   "source": [
    "# import dependencies\n",
    "from csv import reader\n",
    "import csv\n",
    "\n",
    "# create a function which would transliterate each cyrillic symbol into according latin symbol\n",
    "def translit(text):\n",
    "    \n",
    "    #dictionary with all of the symbols\n",
    "    slovar = {'а':'a',\n",
    "             'б':'b',\n",
    "             'в':'v',\n",
    "             'г':'g',\n",
    "             'д':'d',\n",
    "             'е':'e',\n",
    "             'ё':'e',\n",
    "             'ж':'zh',\n",
    "             'з':'z',\n",
    "             'и':'i',\n",
    "             'й':'y',\n",
    "             'к':'k',\n",
    "             'л':'l',\n",
    "             'м':'m',\n",
    "             'н':'n',\n",
    "             'о':'o',\n",
    "             'п':'p',\n",
    "             'р':'r',\n",
    "             'с':'s',\n",
    "             'т':'t',\n",
    "             'у':'u',\n",
    "             'ф':'f',\n",
    "             'х':'kh',\n",
    "             'ц':'ts',\n",
    "             'ч':'ch',\n",
    "             'ш':'sh',\n",
    "             'щ':'shch',\n",
    "             'ъ':'',\n",
    "             'ы':'y',\n",
    "             'ь':'',\n",
    "             'э':'e',\n",
    "             'ю':'u',\n",
    "             'я':'ya',\n",
    "             \n",
    "             'А':'A',\n",
    "             'Б':'B',\n",
    "             'В':'V',\n",
    "             'Г':'G',\n",
    "             'Д':'D',\n",
    "             'Е':'Ye',\n",
    "             'Ё':'Ye',\n",
    "             'Ж':'Zh',\n",
    "             'З':'Z',\n",
    "             'И':'I',\n",
    "             'Й':'Y',\n",
    "             'К':'K',\n",
    "             'Л':'L',\n",
    "             'М':'M',\n",
    "             'Н':'N',\n",
    "             'О':'O',\n",
    "             'П':'P',\n",
    "             'Р':'R',\n",
    "             'С':'S',\n",
    "             'Т':'T',\n",
    "             'У':'U',\n",
    "             'Ф':'F',\n",
    "             'Х':'Kh',\n",
    "             'Ц':'Ts',\n",
    "             'Ч':'Ch',\n",
    "             'Ш':'Sh',\n",
    "             'Щ':'Shch',\n",
    "             'Ъ':'',\n",
    "             'Ы':'Y',\n",
    "             'Ь':'',\n",
    "             'Э':'E',\n",
    "             'Ю':'Yu',\n",
    "             'Я':'Ya',\n",
    "             \n",
    "             ',':'','?':'',' ':' ','~':'','!':'','@':'','#':'',\n",
    "      '$':'','%':'','^':'','&':'','*':'','(':'',')':'','-':'','=':'','+':'',\n",
    "      ':':'',';':'','<':'','>':'','\\'':'','\"':'','\\\\':'','/':'','№':'',\n",
    "      '[':'',']':'','{':'','}':'','ґ':'','ї':'', 'є':'','Ґ':'g','Ї':'i',\n",
    "      'Є':'e', '—':''}\n",
    "        \n",
    "   # cycle through a text field\n",
    "   for key in text:\n",
    "      \n",
    "      text = text.replace(key, slovar[key])\n",
    "   return text"
   ]
  },
  {
   "cell_type": "code",
   "execution_count": 73,
   "metadata": {},
   "outputs": [
    {
     "name": "stdout",
     "output_type": "stream",
     "text": [
      "[['В', 'Герасимов', 'В'], ['А', 'Бахин', 'В'], ['Д', 'Булгаков', 'В'], ['А', 'Галкин', 'В'], ['С', 'Суровикин', 'В']]\n"
     ]
    }
   ],
   "source": [
    "# read csv file as a list of lists\n",
    "with open('file.csv', 'r') as read_obj:\n",
    "    # pass the file object to reader() to get the reader object\n",
    "    csv_reader = reader(read_obj)\n",
    "    # Pass reader object to list() to get a list of lists\n",
    "    list_of_rows = list(csv_reader)\n",
    "print(list_of_rows[0:5])"
   ]
  },
  {
   "cell_type": "code",
   "execution_count": 74,
   "metadata": {},
   "outputs": [],
   "source": [
    "# transliterate the list of names into the \"list_of_rows_out\" list\n",
    "list_of_rows_out = []\n",
    "for row in list_of_rows:\n",
    "    row=translit(str(row))\n",
    "    list_of_rows_out.append([row])"
   ]
  },
  {
   "cell_type": "code",
   "execution_count": 75,
   "metadata": {},
   "outputs": [],
   "source": [
    "# save the output as an \"output.csv\"\n",
    "with open(\"output.csv\", \"w\") as output_file:\n",
    "    writer = csv.writer(output_file, delimiter=',', quotechar='\"', lineterminator='\\n')\n",
    "    writer.writerows(list_of_rows_out)"
   ]
  }
 ],
 "metadata": {
  "kernelspec": {
   "display_name": "Python 3",
   "language": "python",
   "name": "python3"
  },
  "language_info": {
   "codemirror_mode": {
    "name": "ipython",
    "version": 3
   },
   "file_extension": ".py",
   "mimetype": "text/x-python",
   "name": "python",
   "nbconvert_exporter": "python",
   "pygments_lexer": "ipython3",
   "version": "3.8.1"
  }
 },
 "nbformat": 4,
 "nbformat_minor": 4
}
